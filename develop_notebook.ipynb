{
 "cells": [
  {
   "cell_type": "code",
   "execution_count": 1,
   "metadata": {},
   "outputs": [
    {
     "name": "stdout",
     "output_type": "stream",
     "text": [
      "[{'name': 'FORMALDEHYDE', 'smiles': 'O=C', 'cas': '000050-00-0'}]\n"
     ]
    }
   ],
   "source": [
    "import requests\n",
    "\n",
    "def search_episuite(query_term):\n",
    "    url = 'https://episuite.dev/EpiWebSuite/api/search'\n",
    "    params = {'query': query_term}\n",
    "    \n",
    "    response = requests.get(url, params=params)\n",
    "    response.raise_for_status()  # Raise an exception for HTTP errors\n",
    "    data = response.json()\n",
    "    return data\n",
    "\n",
    "\n",
    "\n",
    "query_term = '50-00-0'  # Replace with your query term\n",
    "result = search_episuite(query_term)\n",
    "print(result)"
   ]
  },
  {
   "cell_type": "code",
   "execution_count": 2,
   "metadata": {},
   "outputs": [],
   "source": [
    "url = 'https://episuite.dev/EpiWebSuite/api/search'\n",
    "params = {'query': query_term}\n",
    "\n",
    "response = requests.get(url, params=params)\n",
    "response.raise_for_status()  # Raise an exception for HTTP errors\n",
    "data = response.json()"
   ]
  },
  {
   "cell_type": "code",
   "execution_count": 3,
   "metadata": {},
   "outputs": [
    {
     "data": {
      "text/plain": [
       "{'Date': 'Mon, 04 Nov 2024 21:29:18 GMT', 'Content-Type': 'application/json', 'Content-Length': '89', 'Connection': 'keep-alive', 'Server': 'Apache', 'access-control-allow-origin': '*', 'Vary': 'Accept-Encoding', 'Content-Encoding': 'gzip', 'Referrer-Policy': 'same-origin', 'X-Content-Type-Options': 'nosniff', 'X-Frame-Options': 'SAMEORIGIN', 'X-XSS-Protection': '1; mode=block', 'Cache-Control': 'max-age=0, no-cache, no-store, must-revalidate', 'Pragma': 'no-cache', 'Strict-Transport-Security': 'max-age=31536000; includeSubDomains; preload'}"
      ]
     },
     "execution_count": 3,
     "metadata": {},
     "output_type": "execute_result"
    }
   ],
   "source": [
    "response.status_code\n",
    "response.headers"
   ]
  },
  {
   "cell_type": "code",
   "execution_count": 4,
   "metadata": {},
   "outputs": [],
   "source": [
    "from pyepisuite.api_client import EpiSuiteAPIClient\n",
    "epi = EpiSuiteAPIClient()\n",
    "ids = epi.search('50-00-0')\n",
    "res_cas = epi.submit(cas= ids[0].cas)\n",
    "# res_name = epi.submit(smiles= ids[0].smiles)"
   ]
  },
  {
   "cell_type": "code",
   "execution_count": 5,
   "metadata": {},
   "outputs": [],
   "source": [
    "def from_dict(data_class, data):\n",
    "    \"\"\"\n",
    "    Recursively converts a dictionary to a dataclass instance.\n",
    "    \"\"\"\n",
    "    if isinstance(data, list):\n",
    "        return [from_dict(data_class.__args__[0], item) for item in data]\n",
    "    elif isinstance(data, dict):\n",
    "        fieldtypes = {f.name: f.type for f in data_class.__dataclass_fields__.values()}\n",
    "        return data_class(**{f: from_dict(fieldtypes[f], data[f]) if isinstance(fieldtypes[f], type) else data[f] for f in data})\n",
    "    else:\n",
    "        return data"
   ]
  },
  {
   "cell_type": "code",
   "execution_count": 6,
   "metadata": {},
   "outputs": [],
   "source": [
    "from pyepisuite.models import ResultEcoSAR, ResultEPISuite\n",
    "res_ecosar = res_cas['ecosar']\n",
    "# remove ecosar from the dictionary\n",
    "res_cas.pop('ecosar', None)\n",
    "# remove output and alerts from the dictionary\n",
    "res_ecosar.pop('output', None)\n",
    "# res_ecosar.pop('alerts', None)\n",
    "ecosar_data  = from_dict(ResultEcoSAR, res_ecosar)"
   ]
  },
  {
   "cell_type": "code",
   "execution_count": 7,
   "metadata": {},
   "outputs": [
    {
     "data": {
      "text/plain": [
       "0.35"
      ]
     },
     "execution_count": 7,
     "metadata": {},
     "output_type": "execute_result"
    }
   ],
   "source": [
    "ecosar_data.parameters.logKow.value"
   ]
  },
  {
   "cell_type": "code",
   "execution_count": 8,
   "metadata": {},
   "outputs": [
    {
     "data": {
      "text/plain": [
       "ResultEcoSAR(parameters=EcosarParameters(smiles='O=C', cas='000050-00-0', logKow=Parameter(value=0.35, units=None, valueType='EXPERIMENTAL'), waterSolubility=Parameter(value=54982.12109375, units='mg/L', valueType='ESTIMATED'), meltingPoint=Parameter(value=-92.0, units='celsius', valueType='EXPERIMENTAL')), modelResults=[{'qsarClass': 'Aldehydes (Mono)', 'organism': 'Fish', 'duration': '96-hr', 'endpoint': 'LC50', 'concentration': 11.226508140563965, 'maxLogKow': 5.0, 'flags': []}, {'qsarClass': 'Aldehydes (Mono)', 'organism': 'Daphnid', 'duration': '48-hr', 'endpoint': 'LC50', 'concentration': 11.985322952270508, 'maxLogKow': 5.0, 'flags': []}, {'qsarClass': 'Aldehydes (Mono)', 'organism': 'Green Algae', 'duration': '96-hr', 'endpoint': 'EC50', 'concentration': 5.865765571594238, 'maxLogKow': 6.400000095367432, 'flags': []}, {'qsarClass': 'Aldehydes (Mono)', 'organism': 'Fish', 'duration': '', 'endpoint': 'ChV', 'concentration': 3.619093179702759, 'maxLogKow': 8.0, 'flags': []}, {'qsarClass': 'Aldehydes (Mono)', 'organism': 'Daphnid', 'duration': '', 'endpoint': 'ChV', 'concentration': 0.09811598062515259, 'maxLogKow': 8.0, 'flags': []}, {'qsarClass': 'Aldehydes (Mono)', 'organism': 'Green Algae', 'duration': '', 'endpoint': 'ChV', 'concentration': 1.7776434421539307, 'maxLogKow': 8.0, 'flags': []}, {'qsarClass': 'Neutral Organics', 'organism': 'Fish', 'duration': '96-hr', 'endpoint': 'LC50', 'concentration': 748.117431640625, 'maxLogKow': 5.0, 'flags': []}, {'qsarClass': 'Neutral Organics', 'organism': 'Daphnid', 'duration': '48-hr', 'endpoint': 'LC50', 'concentration': 364.75787353515625, 'maxLogKow': 5.0, 'flags': []}, {'qsarClass': 'Neutral Organics', 'organism': 'Green Algae', 'duration': '96-hr', 'endpoint': 'EC50', 'concentration': 144.72206115722656, 'maxLogKow': 6.400000095367432, 'flags': []}, {'qsarClass': 'Neutral Organics', 'organism': 'Fish', 'duration': '', 'endpoint': 'ChV', 'concentration': 61.09768295288086, 'maxLogKow': 8.0, 'flags': []}, {'qsarClass': 'Neutral Organics', 'organism': 'Daphnid', 'duration': '', 'endpoint': 'ChV', 'concentration': 23.279020309448242, 'maxLogKow': 8.0, 'flags': []}, {'qsarClass': 'Neutral Organics', 'organism': 'Green Algae', 'duration': '', 'endpoint': 'ChV', 'concentration': 26.995397567749023, 'maxLogKow': 8.0, 'flags': []}, {'qsarClass': 'Neutral Organics', 'organism': 'Fish (SW)', 'duration': '96-hr', 'endpoint': 'LC50', 'concentration': 932.5665283203125, 'maxLogKow': 5.0, 'flags': []}, {'qsarClass': 'Neutral Organics', 'organism': 'Mysid', 'duration': '96-hr', 'endpoint': 'LC50', 'concentration': 2119.384521484375, 'maxLogKow': 5.0, 'flags': []}, {'qsarClass': 'Neutral Organics', 'organism': 'Fish (SW)', 'duration': '', 'endpoint': 'ChV', 'concentration': 36.95725631713867, 'maxLogKow': 8.0, 'flags': []}, {'qsarClass': 'Neutral Organics', 'organism': 'Mysid (SW)', 'duration': '', 'endpoint': 'ChV', 'concentration': 298.7203369140625, 'maxLogKow': 8.0, 'flags': []}, {'qsarClass': 'Neutral Organics', 'organism': 'Earthworm', 'duration': '14-day', 'endpoint': 'LC50', 'concentration': 77.41226196289062, 'maxLogKow': 6.0, 'flags': []}], alerts=['Not Related to an existing ECOSAR class definition. Provided estimates use the neutral organics QSAR equations which represent baseline toxicity potential (minimum toxicity) assuming a simple non-polar narcosis model. Without empirical data on structurally similar chemicals, it is uncertain if this substance will present significantly higher toxicity above baseline estimates.'])"
      ]
     },
     "execution_count": 8,
     "metadata": {},
     "output_type": "execute_result"
    }
   ],
   "source": [
    "ecosar_data"
   ]
  },
  {
   "cell_type": "code",
   "execution_count": 9,
   "metadata": {},
   "outputs": [],
   "source": [
    "from typing import Optional\n",
    "def from_dict_main(data_class, data):\n",
    "    if isinstance(data_class, type):\n",
    "        if hasattr(data_class, '__dataclass_fields__'):\n",
    "            fieldtypes = {f.name: f.type for f in data_class.__dataclass_fields__.values()}\n",
    "            print(fieldtypes)\n",
    "            return data_class(**{f: from_dict_main(fieldtypes[f], data[f]) for f in data})\n",
    "    elif hasattr(data_class, '__origin__'):\n",
    "        origin = data_class.__origin__\n",
    "        if origin is list:\n",
    "            return [from_dict_main(data_class.__args__[0], item) for item in data]\n",
    "        elif origin is Optional:\n",
    "            return from_dict_main(data_class.__args__[0], data) if data is not None else None\n",
    "    return data"
   ]
  },
  {
   "cell_type": "code",
   "execution_count": 35,
   "metadata": {},
   "outputs": [
    {
     "name": "stdout",
     "output_type": "stream",
     "text": [
      "{'parameters': <class 'pyepisuite.models.Parameters'>, 'chemicalProperties': <class 'pyepisuite.models.ChemicalProperties'>, 'logKow': <class 'pyepisuite.models.LogKowResponse'>, 'meltingPoint': <class 'pyepisuite.models.MeltingPointResponse'>, 'boilingPoint': <class 'pyepisuite.models.BoilingPointResponse'>, 'vaporPressure': <class 'pyepisuite.models.VaporPressureResponse'>, 'waterSolubilityFromLogKow': <class 'pyepisuite.models.WaterSolubilityFromLogKowResponse'>, 'waterSolubilityFromWaterNt': <class 'pyepisuite.models.WaterSolubilityFromWaterNtResponse'>, 'henrysLawConstant': <class 'pyepisuite.models.HenrysLawConstantResponse'>, 'logKoa': <class 'pyepisuite.models.LogKoaResponse'>, 'biodegradationRate': <class 'pyepisuite.models.BiodegradationRateResponse'>, 'hydrocarbonBiodegradationRate': <class 'pyepisuite.models.HydrocarbonBiodegradationRateResponse'>, 'aerosolAdsorptionFraction': <class 'pyepisuite.models.AerosolAdsorptionFractionResponse'>, 'atmosphericHalfLife': <class 'pyepisuite.models.AtmosphericHalfLifeResponse'>, 'logKoc': <class 'pyepisuite.models.LogKocResponse'>, 'hydrolysis': <class 'pyepisuite.models.HydrolysisResponse'>, 'bioconcentration': <class 'pyepisuite.models.BioconcentrationResponse'>, 'waterVolatilization': <class 'pyepisuite.models.WaterVolatilizationResponse'>, 'sewageTreatmentModel': <class 'pyepisuite.models.SewageTreatmentModelResponse'>, 'fugacityModel': <class 'pyepisuite.models.FugacityModelResponse'>, 'dermalPermeability': <class 'pyepisuite.models.DermalPermeabilityResponse'>}\n",
      "{'cas': <class 'str'>, 'smiles': typing.Optional[str], 'caseNumber': typing.Optional[str], 'userLogKow': <class 'pyepisuite.models.Parameter'>, 'userMeltingPoint': <class 'pyepisuite.models.Parameter'>, 'userBoilingPoint': <class 'pyepisuite.models.Parameter'>, 'userWaterSolubility': <class 'pyepisuite.models.Parameter'>, 'userVaporPressure': <class 'pyepisuite.models.Parameter'>, 'userHenrysLawConstant': <class 'pyepisuite.models.Parameter'>, 'userLogKoa': <class 'pyepisuite.models.Parameter'>, 'userLogKoc': <class 'pyepisuite.models.Parameter'>, 'userHydroxylReactionRateConstant': <class 'pyepisuite.models.Parameter'>, 'userDermalPermeabilityCoefficient': <class 'pyepisuite.models.Parameter'>, 'userBiodegradationRateRemoveMetals': <class 'pyepisuite.models.Parameter'>, 'userAtmosphericHydroxylRadicalConcentration': <class 'pyepisuite.models.Parameter'>, 'userAtmosphericOzoneConcentration': <class 'pyepisuite.models.Parameter'>, 'userAtmosphericDaylightHours': <class 'pyepisuite.models.Parameter'>, 'userStpHalfLifePrimaryClarifier': <class 'pyepisuite.models.Parameter'>, 'userStpHalfLifeAerationVessel': <class 'pyepisuite.models.Parameter'>, 'userStpHalfLifeSettlingTank': <class 'pyepisuite.models.Parameter'>, 'userFugacityHalfLifeAir': <class 'pyepisuite.models.Parameter'>, 'userFugacityHalfLifeWater': <class 'pyepisuite.models.Parameter'>, 'userFugacityHalfLifeSoil': <class 'pyepisuite.models.Parameter'>, 'userFugacityHalfLifeSediment': <class 'pyepisuite.models.Parameter'>, 'userFugacityEmissionRateAir': <class 'pyepisuite.models.Parameter'>, 'userFugacityEmissionRateWater': <class 'pyepisuite.models.Parameter'>, 'userFugacityEmissionRateSoil': <class 'pyepisuite.models.Parameter'>, 'userFugacityEmissionRateSediment': <class 'pyepisuite.models.Parameter'>, 'userFugacityAdvectionTimeAir': <class 'pyepisuite.models.Parameter'>, 'userFugacityAdvectionTimeWater': <class 'pyepisuite.models.Parameter'>, 'userFugacityAdvectionTimeSoil': <class 'pyepisuite.models.Parameter'>, 'userFugacityAdvectionTimeSediment': <class 'pyepisuite.models.Parameter'>, 'modules': typing.Optional[typing.List[str]]}\n",
      "{'value': <class 'float'>, 'units': typing.Optional[str], 'valueType': <class 'str'>}\n",
      "{'value': <class 'float'>, 'units': typing.Optional[str], 'valueType': <class 'str'>}\n",
      "{'value': <class 'float'>, 'units': typing.Optional[str], 'valueType': <class 'str'>}\n",
      "{'value': <class 'float'>, 'units': typing.Optional[str], 'valueType': <class 'str'>}\n",
      "{'value': <class 'float'>, 'units': typing.Optional[str], 'valueType': <class 'str'>}\n",
      "{'value': <class 'float'>, 'units': typing.Optional[str], 'valueType': <class 'str'>}\n",
      "{'value': <class 'float'>, 'units': typing.Optional[str], 'valueType': <class 'str'>}\n",
      "{'value': <class 'float'>, 'units': typing.Optional[str], 'valueType': <class 'str'>}\n",
      "{'value': <class 'float'>, 'units': typing.Optional[str], 'valueType': <class 'str'>}\n",
      "{'value': <class 'float'>, 'units': typing.Optional[str], 'valueType': <class 'str'>}\n",
      "{'value': <class 'float'>, 'units': typing.Optional[str], 'valueType': <class 'str'>}\n",
      "{'value': <class 'float'>, 'units': typing.Optional[str], 'valueType': <class 'str'>}\n",
      "{'value': <class 'float'>, 'units': typing.Optional[str], 'valueType': <class 'str'>}\n",
      "{'value': <class 'float'>, 'units': typing.Optional[str], 'valueType': <class 'str'>}\n",
      "{'value': <class 'float'>, 'units': typing.Optional[str], 'valueType': <class 'str'>}\n",
      "{'value': <class 'float'>, 'units': typing.Optional[str], 'valueType': <class 'str'>}\n",
      "{'value': <class 'float'>, 'units': typing.Optional[str], 'valueType': <class 'str'>}\n",
      "{'value': <class 'float'>, 'units': typing.Optional[str], 'valueType': <class 'str'>}\n",
      "{'value': <class 'float'>, 'units': typing.Optional[str], 'valueType': <class 'str'>}\n",
      "{'value': <class 'float'>, 'units': typing.Optional[str], 'valueType': <class 'str'>}\n",
      "{'value': <class 'float'>, 'units': typing.Optional[str], 'valueType': <class 'str'>}\n",
      "{'value': <class 'float'>, 'units': typing.Optional[str], 'valueType': <class 'str'>}\n",
      "{'value': <class 'float'>, 'units': typing.Optional[str], 'valueType': <class 'str'>}\n",
      "{'value': <class 'float'>, 'units': typing.Optional[str], 'valueType': <class 'str'>}\n",
      "{'value': <class 'float'>, 'units': typing.Optional[str], 'valueType': <class 'str'>}\n",
      "{'value': <class 'float'>, 'units': typing.Optional[str], 'valueType': <class 'str'>}\n",
      "{'value': <class 'float'>, 'units': typing.Optional[str], 'valueType': <class 'str'>}\n",
      "{'value': <class 'float'>, 'units': typing.Optional[str], 'valueType': <class 'str'>}\n",
      "{'value': <class 'float'>, 'units': typing.Optional[str], 'valueType': <class 'str'>}\n",
      "{'name': <class 'str'>, 'systematicName': <class 'str'>, 'cas': <class 'str'>, 'smiles': typing.Optional[str], 'molecularWeight': <class 'float'>, 'molecularFormula': <class 'str'>, 'molecularFormulaHtml': <class 'str'>, 'organic': <class 'bool'>, 'organicAcid': <class 'bool'>, 'aminoAcid': <class 'bool'>, 'nonStandardMetal': <class 'bool'>, 'flags': typing.Optional[typing.Dict[str, bool]]}\n",
      "{'estimatedValue': <class 'pyepisuite.models.EstimatedValue'>, 'experimentalValues': typing.List[pyepisuite.models.ExperimentalValue], 'selectedValue': <class 'pyepisuite.models.SelectedValue'>}\n"
     ]
    },
    {
     "ename": "KeyError",
     "evalue": "'parameters'",
     "output_type": "error",
     "traceback": [
      "\u001b[1;31m---------------------------------------------------------------------------\u001b[0m",
      "\u001b[1;31mKeyError\u001b[0m                                  Traceback (most recent call last)",
      "Cell \u001b[1;32mIn[35], line 1\u001b[0m\n\u001b[1;32m----> 1\u001b[0m res_epi \u001b[38;5;241m=\u001b[39m \u001b[43mfrom_dict_main\u001b[49m\u001b[43m(\u001b[49m\u001b[43mResultEPISuite\u001b[49m\u001b[43m,\u001b[49m\u001b[43m \u001b[49m\u001b[43mres_cas\u001b[49m\u001b[43m)\u001b[49m\n\u001b[0;32m      2\u001b[0m \u001b[38;5;66;03m# res_epi = from_dict(ResultEPISuite, res_cas)\u001b[39;00m\n",
      "Cell \u001b[1;32mIn[30], line 7\u001b[0m, in \u001b[0;36mfrom_dict_main\u001b[1;34m(data_class, data)\u001b[0m\n\u001b[0;32m      5\u001b[0m         fieldtypes \u001b[38;5;241m=\u001b[39m {f\u001b[38;5;241m.\u001b[39mname: f\u001b[38;5;241m.\u001b[39mtype \u001b[38;5;28;01mfor\u001b[39;00m f \u001b[38;5;129;01min\u001b[39;00m data_class\u001b[38;5;241m.\u001b[39m__dataclass_fields__\u001b[38;5;241m.\u001b[39mvalues()}\n\u001b[0;32m      6\u001b[0m         \u001b[38;5;28mprint\u001b[39m(fieldtypes)\n\u001b[1;32m----> 7\u001b[0m         \u001b[38;5;28;01mreturn\u001b[39;00m data_class(\u001b[38;5;241m*\u001b[39m\u001b[38;5;241m*\u001b[39m\u001b[43m{\u001b[49m\u001b[43mf\u001b[49m\u001b[43m:\u001b[49m\u001b[43m \u001b[49m\u001b[43mfrom_dict_main\u001b[49m\u001b[43m(\u001b[49m\u001b[43mfieldtypes\u001b[49m\u001b[43m[\u001b[49m\u001b[43mf\u001b[49m\u001b[43m]\u001b[49m\u001b[43m,\u001b[49m\u001b[43m \u001b[49m\u001b[43mdata\u001b[49m\u001b[43m[\u001b[49m\u001b[43mf\u001b[49m\u001b[43m]\u001b[49m\u001b[43m)\u001b[49m\u001b[43m \u001b[49m\u001b[38;5;28;43;01mfor\u001b[39;49;00m\u001b[43m \u001b[49m\u001b[43mf\u001b[49m\u001b[43m \u001b[49m\u001b[38;5;129;43;01min\u001b[39;49;00m\u001b[43m \u001b[49m\u001b[43mdata\u001b[49m\u001b[43m}\u001b[49m)\n\u001b[0;32m      8\u001b[0m \u001b[38;5;28;01melif\u001b[39;00m \u001b[38;5;28mhasattr\u001b[39m(data_class, \u001b[38;5;124m'\u001b[39m\u001b[38;5;124m__origin__\u001b[39m\u001b[38;5;124m'\u001b[39m):\n\u001b[0;32m      9\u001b[0m     origin \u001b[38;5;241m=\u001b[39m data_class\u001b[38;5;241m.\u001b[39m__origin__\n",
      "Cell \u001b[1;32mIn[30], line 7\u001b[0m, in \u001b[0;36m<dictcomp>\u001b[1;34m(.0)\u001b[0m\n\u001b[0;32m      5\u001b[0m         fieldtypes \u001b[38;5;241m=\u001b[39m {f\u001b[38;5;241m.\u001b[39mname: f\u001b[38;5;241m.\u001b[39mtype \u001b[38;5;28;01mfor\u001b[39;00m f \u001b[38;5;129;01min\u001b[39;00m data_class\u001b[38;5;241m.\u001b[39m__dataclass_fields__\u001b[38;5;241m.\u001b[39mvalues()}\n\u001b[0;32m      6\u001b[0m         \u001b[38;5;28mprint\u001b[39m(fieldtypes)\n\u001b[1;32m----> 7\u001b[0m         \u001b[38;5;28;01mreturn\u001b[39;00m data_class(\u001b[38;5;241m*\u001b[39m\u001b[38;5;241m*\u001b[39m{f: \u001b[43mfrom_dict_main\u001b[49m\u001b[43m(\u001b[49m\u001b[43mfieldtypes\u001b[49m\u001b[43m[\u001b[49m\u001b[43mf\u001b[49m\u001b[43m]\u001b[49m\u001b[43m,\u001b[49m\u001b[43m \u001b[49m\u001b[43mdata\u001b[49m\u001b[43m[\u001b[49m\u001b[43mf\u001b[49m\u001b[43m]\u001b[49m\u001b[43m)\u001b[49m \u001b[38;5;28;01mfor\u001b[39;00m f \u001b[38;5;129;01min\u001b[39;00m data})\n\u001b[0;32m      8\u001b[0m \u001b[38;5;28;01melif\u001b[39;00m \u001b[38;5;28mhasattr\u001b[39m(data_class, \u001b[38;5;124m'\u001b[39m\u001b[38;5;124m__origin__\u001b[39m\u001b[38;5;124m'\u001b[39m):\n\u001b[0;32m      9\u001b[0m     origin \u001b[38;5;241m=\u001b[39m data_class\u001b[38;5;241m.\u001b[39m__origin__\n",
      "Cell \u001b[1;32mIn[30], line 7\u001b[0m, in \u001b[0;36mfrom_dict_main\u001b[1;34m(data_class, data)\u001b[0m\n\u001b[0;32m      5\u001b[0m         fieldtypes \u001b[38;5;241m=\u001b[39m {f\u001b[38;5;241m.\u001b[39mname: f\u001b[38;5;241m.\u001b[39mtype \u001b[38;5;28;01mfor\u001b[39;00m f \u001b[38;5;129;01min\u001b[39;00m data_class\u001b[38;5;241m.\u001b[39m__dataclass_fields__\u001b[38;5;241m.\u001b[39mvalues()}\n\u001b[0;32m      6\u001b[0m         \u001b[38;5;28mprint\u001b[39m(fieldtypes)\n\u001b[1;32m----> 7\u001b[0m         \u001b[38;5;28;01mreturn\u001b[39;00m data_class(\u001b[38;5;241m*\u001b[39m\u001b[38;5;241m*\u001b[39m\u001b[43m{\u001b[49m\u001b[43mf\u001b[49m\u001b[43m:\u001b[49m\u001b[43m \u001b[49m\u001b[43mfrom_dict_main\u001b[49m\u001b[43m(\u001b[49m\u001b[43mfieldtypes\u001b[49m\u001b[43m[\u001b[49m\u001b[43mf\u001b[49m\u001b[43m]\u001b[49m\u001b[43m,\u001b[49m\u001b[43m \u001b[49m\u001b[43mdata\u001b[49m\u001b[43m[\u001b[49m\u001b[43mf\u001b[49m\u001b[43m]\u001b[49m\u001b[43m)\u001b[49m\u001b[43m \u001b[49m\u001b[38;5;28;43;01mfor\u001b[39;49;00m\u001b[43m \u001b[49m\u001b[43mf\u001b[49m\u001b[43m \u001b[49m\u001b[38;5;129;43;01min\u001b[39;49;00m\u001b[43m \u001b[49m\u001b[43mdata\u001b[49m\u001b[43m}\u001b[49m)\n\u001b[0;32m      8\u001b[0m \u001b[38;5;28;01melif\u001b[39;00m \u001b[38;5;28mhasattr\u001b[39m(data_class, \u001b[38;5;124m'\u001b[39m\u001b[38;5;124m__origin__\u001b[39m\u001b[38;5;124m'\u001b[39m):\n\u001b[0;32m      9\u001b[0m     origin \u001b[38;5;241m=\u001b[39m data_class\u001b[38;5;241m.\u001b[39m__origin__\n",
      "Cell \u001b[1;32mIn[30], line 7\u001b[0m, in \u001b[0;36m<dictcomp>\u001b[1;34m(.0)\u001b[0m\n\u001b[0;32m      5\u001b[0m         fieldtypes \u001b[38;5;241m=\u001b[39m {f\u001b[38;5;241m.\u001b[39mname: f\u001b[38;5;241m.\u001b[39mtype \u001b[38;5;28;01mfor\u001b[39;00m f \u001b[38;5;129;01min\u001b[39;00m data_class\u001b[38;5;241m.\u001b[39m__dataclass_fields__\u001b[38;5;241m.\u001b[39mvalues()}\n\u001b[0;32m      6\u001b[0m         \u001b[38;5;28mprint\u001b[39m(fieldtypes)\n\u001b[1;32m----> 7\u001b[0m         \u001b[38;5;28;01mreturn\u001b[39;00m data_class(\u001b[38;5;241m*\u001b[39m\u001b[38;5;241m*\u001b[39m{f: from_dict_main(\u001b[43mfieldtypes\u001b[49m\u001b[43m[\u001b[49m\u001b[43mf\u001b[49m\u001b[43m]\u001b[49m, data[f]) \u001b[38;5;28;01mfor\u001b[39;00m f \u001b[38;5;129;01min\u001b[39;00m data})\n\u001b[0;32m      8\u001b[0m \u001b[38;5;28;01melif\u001b[39;00m \u001b[38;5;28mhasattr\u001b[39m(data_class, \u001b[38;5;124m'\u001b[39m\u001b[38;5;124m__origin__\u001b[39m\u001b[38;5;124m'\u001b[39m):\n\u001b[0;32m      9\u001b[0m     origin \u001b[38;5;241m=\u001b[39m data_class\u001b[38;5;241m.\u001b[39m__origin__\n",
      "\u001b[1;31mKeyError\u001b[0m: 'parameters'"
     ]
    }
   ],
   "source": [
    "res_epi = from_dict_main(ResultEPISuite, res_cas)\n",
    "# res_epi = from_dict(ResultEPISuite, res_cas)"
   ]
  }
 ],
 "metadata": {
  "kernelspec": {
   "display_name": "physchem",
   "language": "python",
   "name": "python3"
  },
  "language_info": {
   "codemirror_mode": {
    "name": "ipython",
    "version": 3
   },
   "file_extension": ".py",
   "mimetype": "text/x-python",
   "name": "python",
   "nbconvert_exporter": "python",
   "pygments_lexer": "ipython3",
   "version": "3.11.9"
  }
 },
 "nbformat": 4,
 "nbformat_minor": 2
}
