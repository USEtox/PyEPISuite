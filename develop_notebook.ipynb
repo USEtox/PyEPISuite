{
 "cells": [
  {
   "cell_type": "code",
   "execution_count": 17,
   "metadata": {},
   "outputs": [
    {
     "name": "stdout",
     "output_type": "stream",
     "text": [
      "[{'name': 'CAFFEINE', 'smiles': 'CN1C(=O)N(C)c2ncn(C)c2C1(=O)', 'cas': '000058-08-2'}, {'name': 'Caffeine sodium salicylate', 'smiles': 'C12=C(N=CN1C)N(C)C(=O)N(C)C2=O', 'cas': '008002-85-5'}, {'name': 'Caffeine, citrated [USAN]', 'smiles': 'C12=C(N=CN1(OC(=O)CC(O)(C(=O)O)CC(=O)C)C)N(C)C(=O)N(C)C2=O', 'cas': '000069-22-7'}, {'name': 'Caffeine, hydrochloride', 'smiles': 'C12=C(N=CN1C)N(C)C(=O)N(C)C2=O', 'cas': '005892-18-2'}, {'name': 'Caffeine, monohydrobromide', 'smiles': 'C12=C(N=CN1C)N(C)C(=O)N(C)C2=O', 'cas': '005743-18-0'}, {'name': 'Sodium caffeine benzoate', 'smiles': 'C12=C(N=CN1C)N(C)C(=O)N(C)C2=O', 'cas': '008000-95-1'}]\n"
     ]
    }
   ],
   "source": [
    "import requests\n",
    "import dacite\n",
    "import json\n",
    "import os\n",
    "\n",
    "def search_episuite(query_term):\n",
    "    url = 'https://episuite.dev/EpiWebSuite/api/search'\n",
    "    params = {'query': query_term}\n",
    "    \n",
    "    response = requests.get(url, params=params)\n",
    "    response.raise_for_status()  # Raise an exception for HTTP errors\n",
    "    data = response.json()\n",
    "    return data\n",
    "\n",
    "\n",
    "\n",
    "query_term = 'caffeine'  # Replace with your query term\n",
    "result = search_episuite(query_term)\n",
    "print(result)"
   ]
  },
  {
   "cell_type": "code",
   "execution_count": 12,
   "metadata": {},
   "outputs": [],
   "source": [
    "url = 'https://episuite.dev/EpiWebSuite/api/search'\n",
    "params = {'query': query_term}\n",
    "\n",
    "response = requests.get(url, params=params)\n",
    "response.raise_for_status()  # Raise an exception for HTTP errors\n",
    "data = response.json()"
   ]
  },
  {
   "cell_type": "code",
   "execution_count": 3,
   "metadata": {},
   "outputs": [
    {
     "data": {
      "text/plain": [
       "{'Date': 'Wed, 06 Nov 2024 21:00:23 GMT', 'Content-Type': 'application/json', 'Content-Length': '89', 'Connection': 'keep-alive', 'Server': 'Apache', 'access-control-allow-origin': '*', 'Vary': 'Accept-Encoding', 'Content-Encoding': 'gzip', 'Referrer-Policy': 'same-origin', 'X-Content-Type-Options': 'nosniff', 'X-Frame-Options': 'SAMEORIGIN', 'X-XSS-Protection': '1; mode=block', 'Cache-Control': 'max-age=0, no-cache, no-store, must-revalidate', 'Pragma': 'no-cache', 'Strict-Transport-Security': 'max-age=31536000; includeSubDomains; preload'}"
      ]
     },
     "execution_count": 3,
     "metadata": {},
     "output_type": "execute_result"
    }
   ],
   "source": [
    "response.status_code\n",
    "response.headers"
   ]
  },
  {
   "cell_type": "code",
   "execution_count": 13,
   "metadata": {},
   "outputs": [],
   "source": [
    "from pyepisuite.api_client import EpiSuiteAPIClient\n",
    "epi = EpiSuiteAPIClient()\n",
    "ids = epi.search('000058-08-2')\n",
    "res_cas = epi.submit(cas= ids[0].cas)\n",
    "# res_name = epi.submit(smiles= ids[0].smiles)"
   ]
  },
  {
   "cell_type": "code",
   "execution_count": 14,
   "metadata": {},
   "outputs": [],
   "source": [
    "def from_dict(data_class, data):\n",
    "    \"\"\"\n",
    "    Recursively converts a dictionary to a dataclass instance.\n",
    "    \"\"\"\n",
    "    if isinstance(data, list):\n",
    "        return [from_dict(data_class.__args__[0], item) for item in data]\n",
    "    elif isinstance(data, dict):\n",
    "        fieldtypes = {f.name: f.type for f in data_class.__dataclass_fields__.values()}\n",
    "        return data_class(**{f: from_dict(fieldtypes[f], data[f]) if isinstance(fieldtypes[f], type) else data[f] for f in data})\n",
    "    else:\n",
    "        return data"
   ]
  },
  {
   "cell_type": "code",
   "execution_count": 15,
   "metadata": {},
   "outputs": [],
   "source": [
    "from pyepisuite.models import ResultEcoSAR, ResultEPISuite\n",
    "res_ecosar = res_cas['ecosar']\n",
    "# remove ecosar from the dictionary\n",
    "res_cas.pop('ecosar', None)\n",
    "# remove output and alerts from the dictionary\n",
    "res_ecosar.pop('output', None)\n",
    "# res_ecosar.pop('alerts', None)\n",
    "ecosar_data  = from_dict(ResultEcoSAR, res_ecosar)"
   ]
  },
  {
   "cell_type": "code",
   "execution_count": 16,
   "metadata": {},
   "outputs": [
    {
     "data": {
      "text/plain": [
       "-0.07"
      ]
     },
     "execution_count": 16,
     "metadata": {},
     "output_type": "execute_result"
    }
   ],
   "source": [
    "ecosar_data.parameters.logKow.value"
   ]
  },
  {
   "cell_type": "code",
   "execution_count": 8,
   "metadata": {},
   "outputs": [
    {
     "data": {
      "text/plain": [
       "ResultEcoSAR(parameters=EcosarParameters(smiles='O=C', cas='000050-00-0', logKow=Parameter(value=0.35, units=None, valueType='EXPERIMENTAL'), waterSolubility=Parameter(value=54982.12109375, units='mg/L', valueType='ESTIMATED'), meltingPoint=Parameter(value=-92.0, units='celsius', valueType='EXPERIMENTAL')), modelResults=[{'qsarClass': 'Aldehydes (Mono)', 'organism': 'Fish', 'duration': '96-hr', 'endpoint': 'LC50', 'concentration': 11.226508140563965, 'maxLogKow': 5.0, 'flags': []}, {'qsarClass': 'Aldehydes (Mono)', 'organism': 'Daphnid', 'duration': '48-hr', 'endpoint': 'LC50', 'concentration': 11.985322952270508, 'maxLogKow': 5.0, 'flags': []}, {'qsarClass': 'Aldehydes (Mono)', 'organism': 'Green Algae', 'duration': '96-hr', 'endpoint': 'EC50', 'concentration': 5.865765571594238, 'maxLogKow': 6.400000095367432, 'flags': []}, {'qsarClass': 'Aldehydes (Mono)', 'organism': 'Fish', 'duration': '', 'endpoint': 'ChV', 'concentration': 3.619093179702759, 'maxLogKow': 8.0, 'flags': []}, {'qsarClass': 'Aldehydes (Mono)', 'organism': 'Daphnid', 'duration': '', 'endpoint': 'ChV', 'concentration': 0.09811598062515259, 'maxLogKow': 8.0, 'flags': []}, {'qsarClass': 'Aldehydes (Mono)', 'organism': 'Green Algae', 'duration': '', 'endpoint': 'ChV', 'concentration': 1.7776434421539307, 'maxLogKow': 8.0, 'flags': []}, {'qsarClass': 'Neutral Organics', 'organism': 'Fish', 'duration': '96-hr', 'endpoint': 'LC50', 'concentration': 748.117431640625, 'maxLogKow': 5.0, 'flags': []}, {'qsarClass': 'Neutral Organics', 'organism': 'Daphnid', 'duration': '48-hr', 'endpoint': 'LC50', 'concentration': 364.75787353515625, 'maxLogKow': 5.0, 'flags': []}, {'qsarClass': 'Neutral Organics', 'organism': 'Green Algae', 'duration': '96-hr', 'endpoint': 'EC50', 'concentration': 144.72206115722656, 'maxLogKow': 6.400000095367432, 'flags': []}, {'qsarClass': 'Neutral Organics', 'organism': 'Fish', 'duration': '', 'endpoint': 'ChV', 'concentration': 61.09768295288086, 'maxLogKow': 8.0, 'flags': []}, {'qsarClass': 'Neutral Organics', 'organism': 'Daphnid', 'duration': '', 'endpoint': 'ChV', 'concentration': 23.279020309448242, 'maxLogKow': 8.0, 'flags': []}, {'qsarClass': 'Neutral Organics', 'organism': 'Green Algae', 'duration': '', 'endpoint': 'ChV', 'concentration': 26.995397567749023, 'maxLogKow': 8.0, 'flags': []}, {'qsarClass': 'Neutral Organics', 'organism': 'Fish (SW)', 'duration': '96-hr', 'endpoint': 'LC50', 'concentration': 932.5665283203125, 'maxLogKow': 5.0, 'flags': []}, {'qsarClass': 'Neutral Organics', 'organism': 'Mysid', 'duration': '96-hr', 'endpoint': 'LC50', 'concentration': 2119.384521484375, 'maxLogKow': 5.0, 'flags': []}, {'qsarClass': 'Neutral Organics', 'organism': 'Fish (SW)', 'duration': '', 'endpoint': 'ChV', 'concentration': 36.95725631713867, 'maxLogKow': 8.0, 'flags': []}, {'qsarClass': 'Neutral Organics', 'organism': 'Mysid (SW)', 'duration': '', 'endpoint': 'ChV', 'concentration': 298.7203369140625, 'maxLogKow': 8.0, 'flags': []}, {'qsarClass': 'Neutral Organics', 'organism': 'Earthworm', 'duration': '14-day', 'endpoint': 'LC50', 'concentration': 77.41226196289062, 'maxLogKow': 6.0, 'flags': []}], alerts=['Not Related to an existing ECOSAR class definition. Provided estimates use the neutral organics QSAR equations which represent baseline toxicity potential (minimum toxicity) assuming a simple non-polar narcosis model. Without empirical data on structurally similar chemicals, it is uncertain if this substance will present significantly higher toxicity above baseline estimates.'])"
      ]
     },
     "execution_count": 8,
     "metadata": {},
     "output_type": "execute_result"
    }
   ],
   "source": [
    "ecosar_data"
   ]
  },
  {
   "cell_type": "code",
   "execution_count": 9,
   "metadata": {},
   "outputs": [],
   "source": [
    "from typing import Optional\n",
    "def from_dict_main(data_class, data):\n",
    "    if isinstance(data_class, type):\n",
    "        if hasattr(data_class, '__dataclass_fields__'):\n",
    "            fieldtypes = {f.name: f.type for f in data_class.__dataclass_fields__.values()}\n",
    "            print(fieldtypes)\n",
    "            return data_class(**{f: from_dict_main(fieldtypes[f], data[f]) for f in data})\n",
    "    elif hasattr(data_class, '__origin__'):\n",
    "        origin = data_class.__origin__\n",
    "        if origin is list:\n",
    "            return [from_dict_main(data_class.__args__[0], item) for item in data]\n",
    "        elif origin is Optional:\n",
    "            return from_dict_main(data_class.__args__[0], data) if data is not None else None\n",
    "    return data"
   ]
  },
  {
   "cell_type": "code",
   "execution_count": null,
   "metadata": {},
   "outputs": [],
   "source": [
    "# res_epi = from_dict_main(ResultEPISuite, res_cas)\n",
    "# res_epi = from_dict(ResultEPISuite, res_cas)\n",
    "\n",
    "from pyepisuite.models import ResultEcoSAR, ResultEPISuite\n",
    "# load result.json file\n",
    "file_path = os.path.join('src', 'pyepisuite', 'models_expanded', 'result.json')\n",
    "with open(file_path, 'r') as file:\n",
    "    res_cas = json.load(file)\n",
    "res_epi = dacite.from_dict(data_class=ResultEPISuite, data=res_cas)"
   ]
  },
  {
   "cell_type": "code",
   "execution_count": 18,
   "metadata": {},
   "outputs": [],
   "source": [
    "res_epi = dacite.from_dict(data_class=ResultEPISuite, data=res_cas)"
   ]
  },
  {
   "cell_type": "code",
   "execution_count": 20,
   "metadata": {},
   "outputs": [
    {
     "data": {
      "text/plain": [
       "ChemicalProperties(name='CAFFEINE', systematicName='1H-Purine-2,6-dione, 3,7-dihydro-1,3,7-trimethyl-', cas='000058-08-2', smiles='CN1C(=O)N(C)c2ncn(C)c2C1(=O)', molecularWeight=194.1909173958447, molecularFormula='C8H10N4O2', molecularFormulaHtml='C<sub>8</sub>H<sub>10</sub>N<sub>4</sub>O<sub>2</sub>', organic=True, organicAcid=False, aminoAcid=False, nonStandardMetal=False, flags=None)"
      ]
     },
     "execution_count": 20,
     "metadata": {},
     "output_type": "execute_result"
    }
   ],
   "source": [
    "res_epi.chemicalProperties"
   ]
  },
  {
   "cell_type": "code",
   "execution_count": 21,
   "metadata": {},
   "outputs": [
    {
     "name": "stdout",
     "output_type": "stream",
     "text": [
      "\u001b[1;31mSignature:\u001b[0m\n",
      "\u001b[0mdacite\u001b[0m\u001b[1;33m.\u001b[0m\u001b[0mfrom_dict\u001b[0m\u001b[1;33m(\u001b[0m\u001b[1;33m\n",
      "\u001b[0m    \u001b[0mdata_class\u001b[0m\u001b[1;33m:\u001b[0m \u001b[0mType\u001b[0m\u001b[1;33m[\u001b[0m\u001b[1;33m~\u001b[0m\u001b[0mT\u001b[0m\u001b[1;33m]\u001b[0m\u001b[1;33m,\u001b[0m\u001b[1;33m\n",
      "\u001b[0m    \u001b[0mdata\u001b[0m\u001b[1;33m:\u001b[0m \u001b[0mMapping\u001b[0m\u001b[1;33m[\u001b[0m\u001b[0mstr\u001b[0m\u001b[1;33m,\u001b[0m \u001b[0mAny\u001b[0m\u001b[1;33m]\u001b[0m\u001b[1;33m,\u001b[0m\u001b[1;33m\n",
      "\u001b[0m    \u001b[0mconfig\u001b[0m\u001b[1;33m:\u001b[0m \u001b[0mOptional\u001b[0m\u001b[1;33m[\u001b[0m\u001b[0mdacite\u001b[0m\u001b[1;33m.\u001b[0m\u001b[0mconfig\u001b[0m\u001b[1;33m.\u001b[0m\u001b[0mConfig\u001b[0m\u001b[1;33m]\u001b[0m \u001b[1;33m=\u001b[0m \u001b[1;32mNone\u001b[0m\u001b[1;33m,\u001b[0m\u001b[1;33m\n",
      "\u001b[0m\u001b[1;33m)\u001b[0m \u001b[1;33m->\u001b[0m \u001b[1;33m~\u001b[0m\u001b[0mT\u001b[0m\u001b[1;33m\u001b[0m\u001b[1;33m\u001b[0m\u001b[0m\n",
      "\u001b[1;31mDocstring:\u001b[0m\n",
      "Create a data class instance from a dictionary.\n",
      "\n",
      ":param data_class: a data class type\n",
      ":param data: a dictionary of a input data\n",
      ":param config: a configuration of the creation process\n",
      ":return: an instance of a data class\n",
      "\u001b[1;31mFile:\u001b[0m      c:\\users\\aaeft\\venvs\\physchem\\lib\\site-packages\\dacite\\core.py\n",
      "\u001b[1;31mType:\u001b[0m      function"
     ]
    }
   ],
   "source": [
    "?dacite.from_dict"
   ]
  }
 ],
 "metadata": {
  "kernelspec": {
   "display_name": "physchem",
   "language": "python",
   "name": "python3"
  },
  "language_info": {
   "codemirror_mode": {
    "name": "ipython",
    "version": 3
   },
   "file_extension": ".py",
   "mimetype": "text/x-python",
   "name": "python",
   "nbconvert_exporter": "python",
   "pygments_lexer": "ipython3",
   "version": "3.11.9"
  }
 },
 "nbformat": 4,
 "nbformat_minor": 2
}
