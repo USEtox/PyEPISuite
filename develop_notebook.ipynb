{
 "cells": [
  {
   "cell_type": "code",
   "execution_count": 5,
   "metadata": {},
   "outputs": [
    {
     "name": "stdout",
     "output_type": "stream",
     "text": [
      "[{'name': 'FORMALDEHYDE', 'smiles': 'O=C', 'cas': '000050-00-0'}]\n"
     ]
    },
    {
     "data": {
      "text/plain": [
       "True"
      ]
     },
     "execution_count": 5,
     "metadata": {},
     "output_type": "execute_result"
    }
   ],
   "source": [
    "import requests\n",
    "import dacite\n",
    "import json\n",
    "import os\n",
    "from pyepisuite.models import Identifiers\n",
    "\n",
    "def search_episuite(query_term):\n",
    "    url = 'https://episuite.dev/EpiWebSuite/api/search'\n",
    "    params = {'query': query_term}\n",
    "    \n",
    "    response = requests.get(url, params=params)\n",
    "    response.raise_for_status()  # Raise an exception for HTTP errors\n",
    "    data = response.json()\n",
    "    return data\n",
    "\n",
    "\n",
    "\n",
    "query_term = '000050-00-0'  # Replace with your query term\n",
    "result = search_episuite(query_term)\n",
    "ids = [Identifiers(**item) for item in result]\n",
    "print(result)\n",
    "ids[0]\n",
    "isinstance(ids[0], Identifiers)  # True"
   ]
  },
  {
   "cell_type": "code",
   "execution_count": 9,
   "metadata": {},
   "outputs": [
    {
     "data": {
      "text/plain": [
       "[1, 2, 3, 4, 5, 6, 7, 8, 9, 10]"
      ]
     },
     "execution_count": 9,
     "metadata": {},
     "output_type": "execute_result"
    }
   ],
   "source": [
    "a = [1,2,3,4,5]\n",
    "b = [6,7,8,9,10]\n",
    "a+=b\n",
    "a"
   ]
  },
  {
   "cell_type": "code",
   "execution_count": 12,
   "metadata": {},
   "outputs": [],
   "source": [
    "url = 'https://episuite.dev/EpiWebSuite/api/search'\n",
    "params = {'query': query_term}\n",
    "\n",
    "response = requests.get(url, params=params)\n",
    "response.raise_for_status()  # Raise an exception for HTTP errors\n",
    "data = response.json()"
   ]
  },
  {
   "cell_type": "code",
   "execution_count": 3,
   "metadata": {},
   "outputs": [
    {
     "data": {
      "text/plain": [
       "{'Date': 'Wed, 06 Nov 2024 21:00:23 GMT', 'Content-Type': 'application/json', 'Content-Length': '89', 'Connection': 'keep-alive', 'Server': 'Apache', 'access-control-allow-origin': '*', 'Vary': 'Accept-Encoding', 'Content-Encoding': 'gzip', 'Referrer-Policy': 'same-origin', 'X-Content-Type-Options': 'nosniff', 'X-Frame-Options': 'SAMEORIGIN', 'X-XSS-Protection': '1; mode=block', 'Cache-Control': 'max-age=0, no-cache, no-store, must-revalidate', 'Pragma': 'no-cache', 'Strict-Transport-Security': 'max-age=31536000; includeSubDomains; preload'}"
      ]
     },
     "execution_count": 3,
     "metadata": {},
     "output_type": "execute_result"
    }
   ],
   "source": [
    "response.status_code\n",
    "response.headers"
   ]
  },
  {
   "cell_type": "code",
   "execution_count": 13,
   "metadata": {},
   "outputs": [],
   "source": [
    "from pyepisuite.api_client import EpiSuiteAPIClient\n",
    "epi = EpiSuiteAPIClient()\n",
    "ids = epi.search('000058-08-2')\n",
    "res_cas = epi.submit(cas= ids[0].cas)\n",
    "# res_name = epi.submit(smiles= ids[0].smiles)"
   ]
  },
  {
   "cell_type": "code",
   "execution_count": 5,
   "metadata": {},
   "outputs": [],
   "source": [
    "def from_dict(data_class, data):\n",
    "    \"\"\"\n",
    "    Recursively converts a dictionary to a dataclass instance.\n",
    "    \"\"\"\n",
    "    if isinstance(data, list):\n",
    "        return [from_dict(data_class.__args__[0], item) for item in data]\n",
    "    elif isinstance(data, dict):\n",
    "        fieldtypes = {f.name: f.type for f in data_class.__dataclass_fields__.values()}\n",
    "        return data_class(**{f: from_dict(fieldtypes[f], data[f]) if isinstance(fieldtypes[f], type) else data[f] for f in data})\n",
    "    else:\n",
    "        return data\n",
    "    \n",
    "from typing import Optional\n",
    "def from_dict_main(data_class, data):\n",
    "    if isinstance(data_class, type):\n",
    "        if hasattr(data_class, '__dataclass_fields__'):\n",
    "            fieldtypes = {f.name: f.type for f in data_class.__dataclass_fields__.values()}\n",
    "            print(fieldtypes)\n",
    "            return data_class(**{f: from_dict_main(fieldtypes[f], data[f]) for f in data})\n",
    "    elif hasattr(data_class, '__origin__'):\n",
    "        origin = data_class.__origin__\n",
    "        if origin is list:\n",
    "            return [from_dict_main(data_class.__args__[0], item) for item in data]\n",
    "        elif origin is Optional:\n",
    "            return from_dict_main(data_class.__args__[0], data) if data is not None else None\n",
    "    return data"
   ]
  },
  {
   "cell_type": "code",
   "execution_count": 15,
   "metadata": {},
   "outputs": [],
   "source": [
    "from pyepisuite.models import ResultEcoSAR, ResultEPISuite\n",
    "res_ecosar = res_cas['ecosar']\n",
    "# remove ecosar from the dictionary\n",
    "res_cas.pop('ecosar', None)\n",
    "# remove output and alerts from the dictionary\n",
    "res_ecosar.pop('output', None)\n",
    "# res_ecosar.pop('alerts', None)\n",
    "ecosar_data  = from_dict(ResultEcoSAR, res_ecosar)"
   ]
  },
  {
   "cell_type": "code",
   "execution_count": 16,
   "metadata": {},
   "outputs": [
    {
     "data": {
      "text/plain": [
       "-0.07"
      ]
     },
     "execution_count": 16,
     "metadata": {},
     "output_type": "execute_result"
    }
   ],
   "source": [
    "ecosar_data.parameters.logKow.value"
   ]
  },
  {
   "cell_type": "code",
   "execution_count": 8,
   "metadata": {},
   "outputs": [
    {
     "data": {
      "text/plain": [
       "ResultEcoSAR(parameters=EcosarParameters(smiles='O=C', cas='000050-00-0', logKow=Parameter(value=0.35, units=None, valueType='EXPERIMENTAL'), waterSolubility=Parameter(value=54982.12109375, units='mg/L', valueType='ESTIMATED'), meltingPoint=Parameter(value=-92.0, units='celsius', valueType='EXPERIMENTAL')), modelResults=[{'qsarClass': 'Aldehydes (Mono)', 'organism': 'Fish', 'duration': '96-hr', 'endpoint': 'LC50', 'concentration': 11.226508140563965, 'maxLogKow': 5.0, 'flags': []}, {'qsarClass': 'Aldehydes (Mono)', 'organism': 'Daphnid', 'duration': '48-hr', 'endpoint': 'LC50', 'concentration': 11.985322952270508, 'maxLogKow': 5.0, 'flags': []}, {'qsarClass': 'Aldehydes (Mono)', 'organism': 'Green Algae', 'duration': '96-hr', 'endpoint': 'EC50', 'concentration': 5.865765571594238, 'maxLogKow': 6.400000095367432, 'flags': []}, {'qsarClass': 'Aldehydes (Mono)', 'organism': 'Fish', 'duration': '', 'endpoint': 'ChV', 'concentration': 3.619093179702759, 'maxLogKow': 8.0, 'flags': []}, {'qsarClass': 'Aldehydes (Mono)', 'organism': 'Daphnid', 'duration': '', 'endpoint': 'ChV', 'concentration': 0.09811598062515259, 'maxLogKow': 8.0, 'flags': []}, {'qsarClass': 'Aldehydes (Mono)', 'organism': 'Green Algae', 'duration': '', 'endpoint': 'ChV', 'concentration': 1.7776434421539307, 'maxLogKow': 8.0, 'flags': []}, {'qsarClass': 'Neutral Organics', 'organism': 'Fish', 'duration': '96-hr', 'endpoint': 'LC50', 'concentration': 748.117431640625, 'maxLogKow': 5.0, 'flags': []}, {'qsarClass': 'Neutral Organics', 'organism': 'Daphnid', 'duration': '48-hr', 'endpoint': 'LC50', 'concentration': 364.75787353515625, 'maxLogKow': 5.0, 'flags': []}, {'qsarClass': 'Neutral Organics', 'organism': 'Green Algae', 'duration': '96-hr', 'endpoint': 'EC50', 'concentration': 144.72206115722656, 'maxLogKow': 6.400000095367432, 'flags': []}, {'qsarClass': 'Neutral Organics', 'organism': 'Fish', 'duration': '', 'endpoint': 'ChV', 'concentration': 61.09768295288086, 'maxLogKow': 8.0, 'flags': []}, {'qsarClass': 'Neutral Organics', 'organism': 'Daphnid', 'duration': '', 'endpoint': 'ChV', 'concentration': 23.279020309448242, 'maxLogKow': 8.0, 'flags': []}, {'qsarClass': 'Neutral Organics', 'organism': 'Green Algae', 'duration': '', 'endpoint': 'ChV', 'concentration': 26.995397567749023, 'maxLogKow': 8.0, 'flags': []}, {'qsarClass': 'Neutral Organics', 'organism': 'Fish (SW)', 'duration': '96-hr', 'endpoint': 'LC50', 'concentration': 932.5665283203125, 'maxLogKow': 5.0, 'flags': []}, {'qsarClass': 'Neutral Organics', 'organism': 'Mysid', 'duration': '96-hr', 'endpoint': 'LC50', 'concentration': 2119.384521484375, 'maxLogKow': 5.0, 'flags': []}, {'qsarClass': 'Neutral Organics', 'organism': 'Fish (SW)', 'duration': '', 'endpoint': 'ChV', 'concentration': 36.95725631713867, 'maxLogKow': 8.0, 'flags': []}, {'qsarClass': 'Neutral Organics', 'organism': 'Mysid (SW)', 'duration': '', 'endpoint': 'ChV', 'concentration': 298.7203369140625, 'maxLogKow': 8.0, 'flags': []}, {'qsarClass': 'Neutral Organics', 'organism': 'Earthworm', 'duration': '14-day', 'endpoint': 'LC50', 'concentration': 77.41226196289062, 'maxLogKow': 6.0, 'flags': []}], alerts=['Not Related to an existing ECOSAR class definition. Provided estimates use the neutral organics QSAR equations which represent baseline toxicity potential (minimum toxicity) assuming a simple non-polar narcosis model. Without empirical data on structurally similar chemicals, it is uncertain if this substance will present significantly higher toxicity above baseline estimates.'])"
      ]
     },
     "execution_count": 8,
     "metadata": {},
     "output_type": "execute_result"
    }
   ],
   "source": [
    "ecosar_data"
   ]
  },
  {
   "cell_type": "code",
   "execution_count": 9,
   "metadata": {},
   "outputs": [],
   "source": [
    "from typing import Optional\n",
    "def from_dict_main(data_class, data):\n",
    "    if isinstance(data_class, type):\n",
    "        if hasattr(data_class, '__dataclass_fields__'):\n",
    "            fieldtypes = {f.name: f.type for f in data_class.__dataclass_fields__.values()}\n",
    "            print(fieldtypes)\n",
    "            return data_class(**{f: from_dict_main(fieldtypes[f], data[f]) for f in data})\n",
    "    elif hasattr(data_class, '__origin__'):\n",
    "        origin = data_class.__origin__\n",
    "        if origin is list:\n",
    "            return [from_dict_main(data_class.__args__[0], item) for item in data]\n",
    "        elif origin is Optional:\n",
    "            return from_dict_main(data_class.__args__[0], data) if data is not None else None\n",
    "    return data"
   ]
  },
  {
   "cell_type": "code",
   "execution_count": 3,
   "metadata": {},
   "outputs": [],
   "source": [
    "# res_epi = from_dict_main(ResultEPISuite, res_cas)\n",
    "# res_epi = from_dict(ResultEPISuite, res_cas)\n",
    "\n",
    "from pyepisuite.models import ResultEcoSAR, ResultEPISuite\n",
    "# load result.json file\n",
    "file_path = os.path.join('src', 'pyepisuite', 'models_expanded', 'result.json')\n",
    "with open(file_path, 'r') as file:\n",
    "    res_cas = json.load(file)\n",
    "res_epi = dacite.from_dict(data_class=ResultEPISuite, data=res_cas)\n",
    "res_eco = dacite.from_dict(data_class=ResultEcoSAR, data=res_cas[\"ecosar\"])"
   ]
  },
  {
   "cell_type": "code",
   "execution_count": 6,
   "metadata": {},
   "outputs": [
    {
     "name": "stdout",
     "output_type": "stream",
     "text": [
      "{'parameters': <class 'pyepisuite.models.Parameters'>, 'chemicalProperties': <class 'pyepisuite.models.ChemicalProperties'>, 'logKow': <class 'pyepisuite.models.LogKowResponse'>, 'meltingPoint': <class 'pyepisuite.models.MeltingPointResponse'>, 'boilingPoint': <class 'pyepisuite.models.BoilingPointResponse'>, 'vaporPressure': <class 'pyepisuite.models.VaporPressureResponse'>, 'waterSolubilityFromLogKow': <class 'pyepisuite.models.WaterSolubilityFromLogKowResponse'>, 'waterSolubilityFromWaterNt': <class 'pyepisuite.models.WaterSolubilityFromWaterNtResponse'>, 'henrysLawConstant': <class 'pyepisuite.models.HenrysLawConstantResponse'>, 'logKoa': <class 'pyepisuite.models.LogKoaResponse'>, 'biodegradationRate': <class 'pyepisuite.models.BiodegradationRateResponse'>, 'hydrocarbonBiodegradationRate': <class 'pyepisuite.models.HydrocarbonBiodegradationRateResponse'>, 'aerosolAdsorptionFraction': <class 'pyepisuite.models.AerosolAdsorptionFractionResponse'>, 'atmosphericHalfLife': <class 'pyepisuite.models.AtmosphericHalfLifeResponse'>, 'logKoc': <class 'pyepisuite.models.LogKocResponse'>, 'hydrolysis': <class 'pyepisuite.models.HydrolysisResponse'>, 'bioconcentration': <class 'pyepisuite.models.BioconcentrationResponse'>, 'waterVolatilization': <class 'pyepisuite.models.WaterVolatilizationResponse'>, 'sewageTreatmentModel': <class 'pyepisuite.models.SewageTreatmentModelResponse'>, 'fugacityModel': <class 'pyepisuite.models.FugacityModelResponse'>, 'dermalPermeability': <class 'pyepisuite.models.DermalPermeabilityResponse'>, 'analogs': typing.Optional[typing.List[str]], 'logKowAnalogs': typing.Optional[typing.List[pyepisuite.models.Parameter]]}\n",
      "{'cas': <class 'str'>, 'smiles': typing.Optional[str], 'caseNumber': typing.Optional[str], 'userLogKow': typing.Optional[pyepisuite.models.Parameter], 'userMeltingPoint': typing.Optional[pyepisuite.models.Parameter], 'userBoilingPoint': typing.Optional[pyepisuite.models.Parameter], 'userWaterSolubility': typing.Optional[pyepisuite.models.Parameter], 'userVaporPressure': typing.Optional[pyepisuite.models.Parameter], 'userHenrysLawConstant': typing.Optional[pyepisuite.models.Parameter], 'userLogKoa': typing.Optional[pyepisuite.models.Parameter], 'userLogKoc': typing.Optional[pyepisuite.models.Parameter], 'userHydroxylReactionRateConstant': typing.Optional[pyepisuite.models.Parameter], 'userDermalPermeabilityCoefficient': typing.Optional[pyepisuite.models.Parameter], 'userBiodegradationRateRemoveMetals': typing.Optional[pyepisuite.models.Parameter], 'userAtmosphericHydroxylRadicalConcentration': typing.Optional[pyepisuite.models.Parameter], 'userAtmosphericOzoneConcentration': typing.Optional[pyepisuite.models.Parameter], 'userAtmosphericDaylightHours': typing.Optional[pyepisuite.models.Parameter], 'userStpHalfLifePrimaryClarifier': typing.Optional[pyepisuite.models.Parameter], 'userStpHalfLifeAerationVessel': typing.Optional[pyepisuite.models.Parameter], 'userStpHalfLifeSettlingTank': typing.Optional[pyepisuite.models.Parameter], 'userFugacityHalfLifeAir': typing.Optional[pyepisuite.models.Parameter], 'userFugacityHalfLifeWater': typing.Optional[pyepisuite.models.Parameter], 'userFugacityHalfLifeSoil': typing.Optional[pyepisuite.models.Parameter], 'userFugacityHalfLifeSediment': typing.Optional[pyepisuite.models.Parameter], 'userFugacityEmissionRateAir': typing.Optional[pyepisuite.models.Parameter], 'userFugacityEmissionRateWater': typing.Optional[pyepisuite.models.Parameter], 'userFugacityEmissionRateSoil': typing.Optional[pyepisuite.models.Parameter], 'userFugacityEmissionRateSediment': typing.Optional[pyepisuite.models.Parameter], 'userFugacityAdvectionTimeAir': typing.Optional[pyepisuite.models.Parameter], 'userFugacityAdvectionTimeWater': typing.Optional[pyepisuite.models.Parameter], 'userFugacityAdvectionTimeSoil': typing.Optional[pyepisuite.models.Parameter], 'userFugacityAdvectionTimeSediment': typing.Optional[pyepisuite.models.Parameter], 'modules': typing.Optional[typing.List[str]]}\n",
      "{'name': <class 'str'>, 'systematicName': <class 'str'>, 'cas': <class 'str'>, 'smiles': typing.Optional[str], 'molecularWeight': <class 'float'>, 'molecularFormula': <class 'str'>, 'molecularFormulaHtml': <class 'str'>, 'organic': <class 'bool'>, 'organicAcid': <class 'bool'>, 'aminoAcid': <class 'bool'>, 'nonStandardMetal': <class 'bool'>, 'flags': typing.Optional[typing.Dict[str, bool]]}\n",
      "{'estimatedValue': <class 'pyepisuite.models.logKowEstimatedValue'>, 'experimentalValues': typing.List[pyepisuite.models.ExperimentalValue], 'selectedValue': <class 'pyepisuite.models.SelectedValue'>}\n"
     ]
    },
    {
     "ename": "KeyError",
     "evalue": "'parameters'",
     "output_type": "error",
     "traceback": [
      "\u001b[1;31m---------------------------------------------------------------------------\u001b[0m",
      "\u001b[1;31mKeyError\u001b[0m                                  Traceback (most recent call last)",
      "Cell \u001b[1;32mIn[6], line 1\u001b[0m\n\u001b[1;32m----> 1\u001b[0m res_epi \u001b[38;5;241m=\u001b[39m \u001b[43mfrom_dict_main\u001b[49m\u001b[43m(\u001b[49m\u001b[43mResultEPISuite\u001b[49m\u001b[43m,\u001b[49m\u001b[43m \u001b[49m\u001b[43mres_cas\u001b[49m\u001b[43m)\u001b[49m\n",
      "Cell \u001b[1;32mIn[5], line 19\u001b[0m, in \u001b[0;36mfrom_dict_main\u001b[1;34m(data_class, data)\u001b[0m\n\u001b[0;32m     17\u001b[0m         fieldtypes \u001b[38;5;241m=\u001b[39m {f\u001b[38;5;241m.\u001b[39mname: f\u001b[38;5;241m.\u001b[39mtype \u001b[38;5;28;01mfor\u001b[39;00m f \u001b[38;5;129;01min\u001b[39;00m data_class\u001b[38;5;241m.\u001b[39m__dataclass_fields__\u001b[38;5;241m.\u001b[39mvalues()}\n\u001b[0;32m     18\u001b[0m         \u001b[38;5;28mprint\u001b[39m(fieldtypes)\n\u001b[1;32m---> 19\u001b[0m         \u001b[38;5;28;01mreturn\u001b[39;00m data_class(\u001b[38;5;241m*\u001b[39m\u001b[38;5;241m*\u001b[39m\u001b[43m{\u001b[49m\u001b[43mf\u001b[49m\u001b[43m:\u001b[49m\u001b[43m \u001b[49m\u001b[43mfrom_dict_main\u001b[49m\u001b[43m(\u001b[49m\u001b[43mfieldtypes\u001b[49m\u001b[43m[\u001b[49m\u001b[43mf\u001b[49m\u001b[43m]\u001b[49m\u001b[43m,\u001b[49m\u001b[43m \u001b[49m\u001b[43mdata\u001b[49m\u001b[43m[\u001b[49m\u001b[43mf\u001b[49m\u001b[43m]\u001b[49m\u001b[43m)\u001b[49m\u001b[43m \u001b[49m\u001b[38;5;28;43;01mfor\u001b[39;49;00m\u001b[43m \u001b[49m\u001b[43mf\u001b[49m\u001b[43m \u001b[49m\u001b[38;5;129;43;01min\u001b[39;49;00m\u001b[43m \u001b[49m\u001b[43mdata\u001b[49m\u001b[43m}\u001b[49m)\n\u001b[0;32m     20\u001b[0m \u001b[38;5;28;01melif\u001b[39;00m \u001b[38;5;28mhasattr\u001b[39m(data_class, \u001b[38;5;124m'\u001b[39m\u001b[38;5;124m__origin__\u001b[39m\u001b[38;5;124m'\u001b[39m):\n\u001b[0;32m     21\u001b[0m     origin \u001b[38;5;241m=\u001b[39m data_class\u001b[38;5;241m.\u001b[39m__origin__\n",
      "Cell \u001b[1;32mIn[5], line 19\u001b[0m, in \u001b[0;36m<dictcomp>\u001b[1;34m(.0)\u001b[0m\n\u001b[0;32m     17\u001b[0m         fieldtypes \u001b[38;5;241m=\u001b[39m {f\u001b[38;5;241m.\u001b[39mname: f\u001b[38;5;241m.\u001b[39mtype \u001b[38;5;28;01mfor\u001b[39;00m f \u001b[38;5;129;01min\u001b[39;00m data_class\u001b[38;5;241m.\u001b[39m__dataclass_fields__\u001b[38;5;241m.\u001b[39mvalues()}\n\u001b[0;32m     18\u001b[0m         \u001b[38;5;28mprint\u001b[39m(fieldtypes)\n\u001b[1;32m---> 19\u001b[0m         \u001b[38;5;28;01mreturn\u001b[39;00m data_class(\u001b[38;5;241m*\u001b[39m\u001b[38;5;241m*\u001b[39m{f: \u001b[43mfrom_dict_main\u001b[49m\u001b[43m(\u001b[49m\u001b[43mfieldtypes\u001b[49m\u001b[43m[\u001b[49m\u001b[43mf\u001b[49m\u001b[43m]\u001b[49m\u001b[43m,\u001b[49m\u001b[43m \u001b[49m\u001b[43mdata\u001b[49m\u001b[43m[\u001b[49m\u001b[43mf\u001b[49m\u001b[43m]\u001b[49m\u001b[43m)\u001b[49m \u001b[38;5;28;01mfor\u001b[39;00m f \u001b[38;5;129;01min\u001b[39;00m data})\n\u001b[0;32m     20\u001b[0m \u001b[38;5;28;01melif\u001b[39;00m \u001b[38;5;28mhasattr\u001b[39m(data_class, \u001b[38;5;124m'\u001b[39m\u001b[38;5;124m__origin__\u001b[39m\u001b[38;5;124m'\u001b[39m):\n\u001b[0;32m     21\u001b[0m     origin \u001b[38;5;241m=\u001b[39m data_class\u001b[38;5;241m.\u001b[39m__origin__\n",
      "Cell \u001b[1;32mIn[5], line 19\u001b[0m, in \u001b[0;36mfrom_dict_main\u001b[1;34m(data_class, data)\u001b[0m\n\u001b[0;32m     17\u001b[0m         fieldtypes \u001b[38;5;241m=\u001b[39m {f\u001b[38;5;241m.\u001b[39mname: f\u001b[38;5;241m.\u001b[39mtype \u001b[38;5;28;01mfor\u001b[39;00m f \u001b[38;5;129;01min\u001b[39;00m data_class\u001b[38;5;241m.\u001b[39m__dataclass_fields__\u001b[38;5;241m.\u001b[39mvalues()}\n\u001b[0;32m     18\u001b[0m         \u001b[38;5;28mprint\u001b[39m(fieldtypes)\n\u001b[1;32m---> 19\u001b[0m         \u001b[38;5;28;01mreturn\u001b[39;00m data_class(\u001b[38;5;241m*\u001b[39m\u001b[38;5;241m*\u001b[39m\u001b[43m{\u001b[49m\u001b[43mf\u001b[49m\u001b[43m:\u001b[49m\u001b[43m \u001b[49m\u001b[43mfrom_dict_main\u001b[49m\u001b[43m(\u001b[49m\u001b[43mfieldtypes\u001b[49m\u001b[43m[\u001b[49m\u001b[43mf\u001b[49m\u001b[43m]\u001b[49m\u001b[43m,\u001b[49m\u001b[43m \u001b[49m\u001b[43mdata\u001b[49m\u001b[43m[\u001b[49m\u001b[43mf\u001b[49m\u001b[43m]\u001b[49m\u001b[43m)\u001b[49m\u001b[43m \u001b[49m\u001b[38;5;28;43;01mfor\u001b[39;49;00m\u001b[43m \u001b[49m\u001b[43mf\u001b[49m\u001b[43m \u001b[49m\u001b[38;5;129;43;01min\u001b[39;49;00m\u001b[43m \u001b[49m\u001b[43mdata\u001b[49m\u001b[43m}\u001b[49m)\n\u001b[0;32m     20\u001b[0m \u001b[38;5;28;01melif\u001b[39;00m \u001b[38;5;28mhasattr\u001b[39m(data_class, \u001b[38;5;124m'\u001b[39m\u001b[38;5;124m__origin__\u001b[39m\u001b[38;5;124m'\u001b[39m):\n\u001b[0;32m     21\u001b[0m     origin \u001b[38;5;241m=\u001b[39m data_class\u001b[38;5;241m.\u001b[39m__origin__\n",
      "Cell \u001b[1;32mIn[5], line 19\u001b[0m, in \u001b[0;36m<dictcomp>\u001b[1;34m(.0)\u001b[0m\n\u001b[0;32m     17\u001b[0m         fieldtypes \u001b[38;5;241m=\u001b[39m {f\u001b[38;5;241m.\u001b[39mname: f\u001b[38;5;241m.\u001b[39mtype \u001b[38;5;28;01mfor\u001b[39;00m f \u001b[38;5;129;01min\u001b[39;00m data_class\u001b[38;5;241m.\u001b[39m__dataclass_fields__\u001b[38;5;241m.\u001b[39mvalues()}\n\u001b[0;32m     18\u001b[0m         \u001b[38;5;28mprint\u001b[39m(fieldtypes)\n\u001b[1;32m---> 19\u001b[0m         \u001b[38;5;28;01mreturn\u001b[39;00m data_class(\u001b[38;5;241m*\u001b[39m\u001b[38;5;241m*\u001b[39m{f: from_dict_main(\u001b[43mfieldtypes\u001b[49m\u001b[43m[\u001b[49m\u001b[43mf\u001b[49m\u001b[43m]\u001b[49m, data[f]) \u001b[38;5;28;01mfor\u001b[39;00m f \u001b[38;5;129;01min\u001b[39;00m data})\n\u001b[0;32m     20\u001b[0m \u001b[38;5;28;01melif\u001b[39;00m \u001b[38;5;28mhasattr\u001b[39m(data_class, \u001b[38;5;124m'\u001b[39m\u001b[38;5;124m__origin__\u001b[39m\u001b[38;5;124m'\u001b[39m):\n\u001b[0;32m     21\u001b[0m     origin \u001b[38;5;241m=\u001b[39m data_class\u001b[38;5;241m.\u001b[39m__origin__\n",
      "\u001b[1;31mKeyError\u001b[0m: 'parameters'"
     ]
    }
   ],
   "source": [
    "res_epi = from_dict_main(ResultEPISuite, res_cas)"
   ]
  },
  {
   "cell_type": "code",
   "execution_count": 20,
   "metadata": {},
   "outputs": [
    {
     "data": {
      "text/plain": [
       "ChemicalProperties(name='CAFFEINE', systematicName='1H-Purine-2,6-dione, 3,7-dihydro-1,3,7-trimethyl-', cas='000058-08-2', smiles='CN1C(=O)N(C)c2ncn(C)c2C1(=O)', molecularWeight=194.1909173958447, molecularFormula='C8H10N4O2', molecularFormulaHtml='C<sub>8</sub>H<sub>10</sub>N<sub>4</sub>O<sub>2</sub>', organic=True, organicAcid=False, aminoAcid=False, nonStandardMetal=False, flags=None)"
      ]
     },
     "execution_count": 20,
     "metadata": {},
     "output_type": "execute_result"
    }
   ],
   "source": [
    "res_epi.chemicalProperties"
   ]
  },
  {
   "cell_type": "code",
   "execution_count": 21,
   "metadata": {},
   "outputs": [
    {
     "name": "stdout",
     "output_type": "stream",
     "text": [
      "\u001b[1;31mSignature:\u001b[0m\n",
      "\u001b[0mdacite\u001b[0m\u001b[1;33m.\u001b[0m\u001b[0mfrom_dict\u001b[0m\u001b[1;33m(\u001b[0m\u001b[1;33m\n",
      "\u001b[0m    \u001b[0mdata_class\u001b[0m\u001b[1;33m:\u001b[0m \u001b[0mType\u001b[0m\u001b[1;33m[\u001b[0m\u001b[1;33m~\u001b[0m\u001b[0mT\u001b[0m\u001b[1;33m]\u001b[0m\u001b[1;33m,\u001b[0m\u001b[1;33m\n",
      "\u001b[0m    \u001b[0mdata\u001b[0m\u001b[1;33m:\u001b[0m \u001b[0mMapping\u001b[0m\u001b[1;33m[\u001b[0m\u001b[0mstr\u001b[0m\u001b[1;33m,\u001b[0m \u001b[0mAny\u001b[0m\u001b[1;33m]\u001b[0m\u001b[1;33m,\u001b[0m\u001b[1;33m\n",
      "\u001b[0m    \u001b[0mconfig\u001b[0m\u001b[1;33m:\u001b[0m \u001b[0mOptional\u001b[0m\u001b[1;33m[\u001b[0m\u001b[0mdacite\u001b[0m\u001b[1;33m.\u001b[0m\u001b[0mconfig\u001b[0m\u001b[1;33m.\u001b[0m\u001b[0mConfig\u001b[0m\u001b[1;33m]\u001b[0m \u001b[1;33m=\u001b[0m \u001b[1;32mNone\u001b[0m\u001b[1;33m,\u001b[0m\u001b[1;33m\n",
      "\u001b[0m\u001b[1;33m)\u001b[0m \u001b[1;33m->\u001b[0m \u001b[1;33m~\u001b[0m\u001b[0mT\u001b[0m\u001b[1;33m\u001b[0m\u001b[1;33m\u001b[0m\u001b[0m\n",
      "\u001b[1;31mDocstring:\u001b[0m\n",
      "Create a data class instance from a dictionary.\n",
      "\n",
      ":param data_class: a data class type\n",
      ":param data: a dictionary of a input data\n",
      ":param config: a configuration of the creation process\n",
      ":return: an instance of a data class\n",
      "\u001b[1;31mFile:\u001b[0m      c:\\users\\aaeft\\venvs\\physchem\\lib\\site-packages\\dacite\\core.py\n",
      "\u001b[1;31mType:\u001b[0m      function"
     ]
    }
   ],
   "source": [
    "?dacite.from_dict"
   ]
  }
 ],
 "metadata": {
  "kernelspec": {
   "display_name": "physchem",
   "language": "python",
   "name": "python3"
  },
  "language_info": {
   "codemirror_mode": {
    "name": "ipython",
    "version": 3
   },
   "file_extension": ".py",
   "mimetype": "text/x-python",
   "name": "python",
   "nbconvert_exporter": "python",
   "pygments_lexer": "ipython3",
   "version": "3.11.9"
  }
 },
 "nbformat": 4,
 "nbformat_minor": 2
}
